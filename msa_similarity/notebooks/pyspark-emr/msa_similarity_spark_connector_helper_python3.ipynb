{
 "cells": [
  {
   "cell_type": "markdown",
   "metadata": {
    "pycharm": {
     "name": "#%% md\n"
    }
   },
   "source": [
    "# Spark Connector with PySpark\n",
    "In the examples that follows, we will be using the Spark Connector running under PySpark\n",
    "[Neo4j spark connector under Python](https://neo4j.com/docs/spark/current/python/)\n",
    "Please run this notebook from a valid Spark environment.  It was tested under [EMR](https://aws.amazon.com/emr/)."
   ]
  },
  {
   "cell_type": "markdown",
   "metadata": {
    "pycharm": {
     "name": "#%% md\n"
    }
   },
   "source": [
    "## Setup Neo4j instance\n",
    "Create a free account at https://sandbox.neo4j.com. Choose the “Blank Sandbox - Graph Data Science” option.\n",
    "When your sandbox has been created, fill in the Bolt URL and password below."
   ]
  },
  {
   "cell_type": "markdown",
   "metadata": {
    "pycharm": {
     "name": "#%% md\n"
    }
   },
   "source": [
    "## Environment Setup"
   ]
  },
  {
   "cell_type": "code",
   "execution_count": null,
   "metadata": {
    "pycharm": {
     "name": "#%%\n"
    }
   },
   "outputs": [],
   "source": [
    "pip install --upgrade seaborn"
   ]
  },
  {
   "cell_type": "code",
   "execution_count": null,
   "metadata": {
    "pycharm": {
     "name": "#%%\n"
    }
   },
   "outputs": [],
   "source": [
    "pip install --upgrade matplotlib"
   ]
  },
  {
   "cell_type": "markdown",
   "metadata": {
    "pycharm": {
     "name": "#%% md\n"
    }
   },
   "source": []
  },
  {
   "cell_type": "markdown",
   "source": [
    "## Setup Neo4j Spark Connector imports"
   ],
   "metadata": {
    "collapsed": false,
    "pycharm": {
     "name": "#%% md\n"
    }
   }
  },
  {
   "cell_type": "code",
   "execution_count": 2,
   "metadata": {
    "pycharm": {
     "name": "#%%\n"
    }
   },
   "outputs": [],
   "source": [
    "from pyspark.sql import SparkSession\n",
    "import seaborn as sns\n",
    "from matplotlib import pyplot as plt\n",
    "import pandas as pd"
   ]
  },
  {
   "cell_type": "markdown",
   "metadata": {
    "pycharm": {
     "name": "#%% md\n"
    }
   },
   "source": [
    "Define Neo4j connection variables"
   ]
  },
  {
   "cell_type": "code",
   "execution_count": 3,
   "metadata": {
    "pycharm": {
     "name": "#%%\n"
    }
   },
   "outputs": [],
   "source": [
    "neo4j_url = \"bolt://<ip>:7687\"\n",
    "neo4j_user = \"neo4j\"\n",
    "neo4j_password = \"<pwd>\"\n",
    "neo4j_database= \"neo4j\""
   ]
  },
  {
   "cell_type": "markdown",
   "metadata": {
    "pycharm": {
     "name": "#%% md\n"
    }
   },
   "source": [
    "Create Spark Session, seeded with Neo4j packages.  If you don't want to wait for the download each time, load the connector into the master node using SSH."
   ]
  },
  {
   "cell_type": "code",
   "execution_count": 4,
   "metadata": {
    "pycharm": {
     "name": "#%%\n"
    }
   },
   "outputs": [
    {
     "data": {
      "text/html": [
       "\n",
       "            <div>\n",
       "                <p><b>SparkSession - in-memory</b></p>\n",
       "                \n",
       "        <div>\n",
       "            <p><b>SparkContext</b></p>\n",
       "\n",
       "            <p><a href=\"http://neo4j-aws-api-examples-m.c.neo4jbusinessdev.internal:36641\">Spark UI</a></p>\n",
       "\n",
       "            <dl>\n",
       "              <dt>Version</dt>\n",
       "                <dd><code>v2.4.8</code></dd>\n",
       "              <dt>Master</dt>\n",
       "                <dd><code>local[*]</code></dd>\n",
       "              <dt>AppName</dt>\n",
       "                <dd><code>Leverage Neo4j with Apache Spark</code></dd>\n",
       "            </dl>\n",
       "        </div>\n",
       "        \n",
       "            </div>\n",
       "        "
      ],
      "text/plain": [
       "<pyspark.sql.session.SparkSession at 0x7fbc4c7531d0>"
      ]
     },
     "execution_count": 4,
     "metadata": {},
     "output_type": "execute_result"
    }
   ],
   "source": [
    "spark = (SparkSession.builder\n",
    "        .appName('Leverage Neo4j with Apache Spark')\n",
    "        .master('local[*]')\n",
    "        # Just to show dataframes as tables\n",
    "        .config('spark.sql.repl.eagerEval.enabled', True)\n",
    "        .config('spark.jars.packages', 'org.neo4j:neo4j-connector-apache-spark_2.12:4.1.3_for_spark_2.4')       \n",
    "        .config(\"neo4j.url\", neo4j_url)\n",
    "        .config(\"neo4j.authentication.type\", \"basic\")\n",
    "        .config(\"neo4j.authentication.basic.username\", neo4j_user)\n",
    "        .config(\"neo4j.authentication.basic.password\", neo4j_password)\n",
    "        .getOrCreate())\n",
    "# output spark version\n",
    "spark"
   ]
  },
  {
   "cell_type": "markdown",
   "metadata": {
    "pycharm": {
     "name": "#%% md\n"
    }
   },
   "source": [
    "Here we are going to create a utility class for the Spark Connector.  Some valid cypher statements will not run in the Spark Connector, as cypher.  They must be executed as side effects through the \"script\" argument of a dummy write operation."
   ]
  },
  {
   "cell_type": "code",
   "execution_count": 84,
   "metadata": {
    "pycharm": {
     "name": "#%%\n"
    }
   },
   "outputs": [],
   "source": [
    "class SparkConnector:\n",
    "    \n",
    "    def __init__( self, spark_session, uri, user, pwd):\n",
    "        \n",
    "        self.__spark_session = spark_session\n",
    "        self.__uri = uri\n",
    "        self.__user = user\n",
    "        self.__pwd = pwd\n",
    "        self.__count_cypher = \"MATCH (n) RETURN count(n)\"\n",
    "        self.__no_side_effects = \"MATCH (n) WHERE 1 = 2 SET n.placeholder = false\"\n",
    "        self.__df = self.read_cypher(self.__count_cypher)\n",
    "            \n",
    "    def read_cypher(self, query):\n",
    "        \n",
    "        response = None\n",
    "        try: \n",
    "            response = self.__spark_session.read.format(\"org.neo4j.spark.DataSource\") \\\n",
    "                .option(\"query\", query) \\\n",
    "                .option(\"url\", self.__uri) \\\n",
    "                .option(\"authentication.type\", \"basic\") \\\n",
    "                .option(\"authentication.basic.username\", self.__user) \\\n",
    "                .option(\"authentication.basic.password\", self.__pwd) \\\n",
    "                .option(\"partitions\", \"1\") \\\n",
    "                .load()\n",
    "        except Exception as e:\n",
    "            print(\"Read query failed:\", e)\n",
    "\n",
    "        return response\n",
    "    \n",
    "    def write_cypher(self, query):\n",
    "        \n",
    "        response = None\n",
    "        try: \n",
    "            response = self.__df.write.format(\"org.neo4j.spark.DataSource\") \\\n",
    "                .option(\"query\", query) \\\n",
    "                .option(\"url\", self.__uri) \\\n",
    "                .option(\"authentication.type\", \"basic\") \\\n",
    "                .option(\"authentication.basic.username\", self.__user) \\\n",
    "                .option(\"authentication.basic.password\", self.__pwd) \\\n",
    "                .option(\"partitions\", \"1\") \\\n",
    "                .save()\n",
    "        except Exception as e:\n",
    "            print(\"Write query failed:\", e)\n",
    "\n",
    "        return response\n",
    "    \n",
    "    def write_script(self,cypher):\n",
    "        \n",
    "        response = None\n",
    "        try: \n",
    "            response = self.__df.write.format(\"org.neo4j.spark.DataSource\") \\\n",
    "              .option(\"url\", self.__uri) \\\n",
    "              .option(\"authentication.type\", \"basic\") \\\n",
    "              .option(\"authentication.basic.username\", self.__user) \\\n",
    "              .option(\"authentication.basic.password\", self.__pwd) \\\n",
    "              .option(\"query\", self.__no_side_effects) \\\n",
    "              .option(\"script\",cypher) \\\n",
    "              .option(\"partitions\", \"1\") \\\n",
    "              .save()\n",
    "        except Exception as e:\n",
    "            print(\"Write query failed:\", e)\n",
    "\n",
    "        return response\n",
    "     \n",
    "\n",
    "             "
   ]
  },
  {
   "cell_type": "markdown",
   "metadata": {
    "pycharm": {
     "name": "#%% md\n"
    }
   },
   "source": [
    "Let's now check that GDS is running on the server by executing this Cypher query.\n",
    "We only need to supply credentials once per notebook."
   ]
  },
  {
   "cell_type": "code",
   "execution_count": 85,
   "metadata": {
    "pycharm": {
     "name": "#%%\n"
    }
   },
   "outputs": [],
   "source": [
    "sparkConnector = SparkConnector(spark_session=spark,uri=neo4j_url, user=neo4j_user, pwd=neo4j_password)"
   ]
  },
  {
   "cell_type": "code",
   "execution_count": 33,
   "metadata": {
    "pycharm": {
     "name": "#%%\n"
    }
   },
   "outputs": [
    {
     "name": "stdout",
     "output_type": "stream",
     "text": [
      "+-----------+\n",
      "|gds_version|\n",
      "+-----------+\n",
      "|      2.0.1|\n",
      "+-----------+\n",
      "\n"
     ]
    }
   ],
   "source": [
    "df=sparkConnector.read_cypher(\"return gds.version() as gds_version\")\n",
    "df.show();"
   ]
  },
  {
   "cell_type": "code",
   "execution_count": 116,
   "metadata": {
    "pycharm": {
     "name": "#%%\n"
    }
   },
   "outputs": [
    {
     "name": "stdout",
     "output_type": "stream",
     "text": [
      "+--------+\n",
      "|count(n)|\n",
      "+--------+\n",
      "|     392|\n",
      "+--------+\n",
      "\n"
     ]
    }
   ],
   "source": [
    "sparkConnector.read_cypher(\"MATCH (n:MSA) RETURN count(n)\").show()"
   ]
  },
  {
   "cell_type": "markdown",
   "metadata": {
    "pycharm": {
     "name": "#%% md\n"
    }
   },
   "source": [
    "Optional if database is not empty!  Reset it!"
   ]
  },
  {
   "cell_type": "code",
   "execution_count": 34,
   "metadata": {
    "pycharm": {
     "name": "#%%\n"
    }
   },
   "outputs": [],
   "source": [
    "reset_db_query = \"\"\"CREATE OR REPLACE DATABASE `neo4j`\"\"\"\n",
    "sparkConnector.write_script(reset_db_query)"
   ]
  },
  {
   "cell_type": "markdown",
   "metadata": {
    "pycharm": {
     "name": "#%% md\n"
    }
   },
   "source": [
    "Check that it's empty now."
   ]
  },
  {
   "cell_type": "code",
   "execution_count": 35,
   "metadata": {
    "pycharm": {
     "name": "#%%\n"
    }
   },
   "outputs": [
    {
     "name": "stdout",
     "output_type": "stream",
     "text": [
      "+--------+\n",
      "|count(n)|\n",
      "+--------+\n",
      "|       0|\n",
      "+--------+\n",
      "\n"
     ]
    }
   ],
   "source": [
    "sparkConnector.read_cypher(\"MATCH (n:MSA) RETURN count(n)\").show()"
   ]
  },
  {
   "cell_type": "markdown",
   "metadata": {
    "pycharm": {
     "name": "#%% md\n"
    }
   },
   "source": [
    "# Load MSA data"
   ]
  },
  {
   "cell_type": "markdown",
   "source": [
    "Create unique constraint on MSA"
   ],
   "metadata": {
    "collapsed": false,
    "pycharm": {
     "name": "#%% md\n"
    }
   }
  },
  {
   "cell_type": "code",
   "execution_count": 1,
   "outputs": [
    {
     "ename": "NameError",
     "evalue": "name 'sparkConnector' is not defined",
     "output_type": "error",
     "traceback": [
      "\u001B[0;31m---------------------------------------------------------------------------\u001B[0m",
      "\u001B[0;31mNameError\u001B[0m                                 Traceback (most recent call last)",
      "Input \u001B[0;32mIn [1]\u001B[0m, in \u001B[0;36m<cell line: 1>\u001B[0;34m()\u001B[0m\n\u001B[0;32m----> 1\u001B[0m \u001B[43msparkConnector\u001B[49m\u001B[38;5;241m.\u001B[39mwrite_script(\u001B[38;5;124m\"\"\"\u001B[39m\n\u001B[1;32m      2\u001B[0m \u001B[38;5;124mCREATE CONSTRAINT msa_name IF NOT EXISTS ON (m:MSA) ASSERT m.name IS NODE KEY\u001B[39m\n\u001B[1;32m      3\u001B[0m \u001B[38;5;124m\"\"\"\u001B[39m)\n",
      "\u001B[0;31mNameError\u001B[0m: name 'sparkConnector' is not defined"
     ]
    }
   ],
   "source": [
    "sparkConnector.write_script(\"\"\"\n",
    "CREATE CONSTRAINT msa_name IF NOT EXISTS ON (m:MSA) ASSERT m.name IS NODE KEY\n",
    "\"\"\")"
   ],
   "metadata": {
    "collapsed": false,
    "pycharm": {
     "name": "#%%\n"
    }
   }
  },
  {
   "cell_type": "markdown",
   "source": [
    "Load CSV data"
   ],
   "metadata": {
    "collapsed": false,
    "pycharm": {
     "name": "#%% md\n"
    }
   }
  },
  {
   "cell_type": "code",
   "execution_count": 36,
   "metadata": {
    "pycharm": {
     "name": "#%%\n"
    }
   },
   "outputs": [],
   "source": [
    "load_csv_query = \"\"\"\n",
    "LOAD CSV WITH HEADERS FROM 'https://raw.githubusercontent.com/smithna/datasets/main/CensusDemographicsByMetroArea.csv' \n",
    "AS row\n",
    "WITH row WHERE row.name CONTAINS 'Metro'\n",
    "MERGE (m:MSA {name:row.name})\n",
    "SET m.population = toInteger(row.population),\n",
    "m.medianHouseholdIncome = toInteger(row.medianHouseholdIncome),\n",
    "m.medianHomePrice = toInteger(row.medianHomePrice),\n",
    "m.percentOver25WithBachelors = toFloat(row.percentOver25WithBachelors)\n",
    "RETURN count(m) as msaCount\"\"\"\n",
    "\n",
    "sparkConnector.write_script(load_csv_query)"
   ]
  },
  {
   "cell_type": "code",
   "execution_count": 37,
   "metadata": {
    "pycharm": {
     "name": "#%%\n"
    }
   },
   "outputs": [
    {
     "name": "stdout",
     "output_type": "stream",
     "text": [
      "+--------------------+----------+---------------------+---------------+--------------------------+\n",
      "|                 msa|population|medianHouseholdIncome|medianHomePrice|percentOver25WithBachelors|\n",
      "+--------------------+----------+---------------------+---------------+--------------------------+\n",
      "|Abilene, TX Metro...|    170669|                52511|         142900|                      23.0|\n",
      "|Aguadilla-Isabela...|    301107|                16470|         126000|                      20.7|\n",
      "|Akron, OH Metro Area|    703845|                57285|         156800|                      31.7|\n",
      "|Albany, GA Metro ...|    148436|                44844|         131700|                      20.0|\n",
      "|Albany-Lebanon, O...|    125048|                55893|         224800|                      19.3|\n",
      "|Albany-Schenectad...|    880736|                71285|         222500|                      37.5|\n",
      "|Albuquerque, NM M...|    912108|                54072|         197200|                      32.2|\n",
      "|Alexandria, LA Me...|    153310|                46367|         154500|                      19.0|\n",
      "|Allentown-Bethleh...|    837610|                67652|         220400|                      29.5|\n",
      "|Altoona, PA Metro...|    123157|                49181|         133500|                      21.3|\n",
      "|Amarillo, TX Metr...|    263776|                55515|         149700|                      24.4|\n",
      "| Ames, IA Metro Area|    123311|                58600|         176600|                      44.6|\n",
      "|Anchorage, AK Met...|    398900|                83048|         303700|                      32.3|\n",
      "|Ann Arbor, MI Met...|    367000|                72586|         270500|                      55.9|\n",
      "|Anniston-Oxford, ...|    114618|                47255|         133800|                      18.5|\n",
      "|Appleton, WI Metr...|    235628|                67616|         174200|                      29.6|\n",
      "|Arecibo, PR Metro...|    180567|                17954|         111000|                      22.6|\n",
      "|Asheville, NC Met...|    454351|                52735|         234600|                      35.5|\n",
      "|Athens-Clarke Cou...|    208457|                47214|         191900|                      39.4|\n",
      "|Atlanta-Sandy Spr...|   5862424|                68316|         223600|                      38.6|\n",
      "+--------------------+----------+---------------------+---------------+--------------------------+\n",
      "only showing top 20 rows\n",
      "\n"
     ]
    }
   ],
   "source": [
    "msa_df_query = \"\"\"\n",
    "MATCH (m:MSA)\n",
    "RETURN m.name AS msa, \n",
    "m.population AS population,\n",
    "m.medianHouseholdIncome AS medianHouseholdIncome,\n",
    "m.medianHomePrice AS medianHomePrice,\n",
    "m.percentOver25WithBachelors as percentOver25WithBachelors\"\"\"\n",
    "\n",
    "msa_df=sparkConnector.read_cypher(msa_df_query)\n",
    "msa_df.show()"
   ]
  },
  {
   "cell_type": "markdown",
   "metadata": {
    "pycharm": {
     "name": "#%% md\n"
    }
   },
   "source": [
    "Convert Spark dataframe to pandas to display histogram"
   ]
  },
  {
   "cell_type": "code",
   "execution_count": 38,
   "metadata": {
    "pycharm": {
     "name": "#%%\n"
    }
   },
   "outputs": [
    {
     "name": "stdout",
     "output_type": "stream",
     "text": [
      "                                              msa  population  \\\n",
      "0                          Abilene, TX Metro Area      170669   \n",
      "1                Aguadilla-Isabela, PR Metro Area      301107   \n",
      "2                            Akron, OH Metro Area      703845   \n",
      "3                           Albany, GA Metro Area      148436   \n",
      "4                   Albany-Lebanon, OR Metro Area      125048   \n",
      "..                                            ...         ...   \n",
      "387                          Yauco, PR Metro Area       90618   \n",
      "388                   York-Hanover, PA Metro Area      445565   \n",
      "389  Youngstown-Warren-Boardman, OH-PA Metro Area      541846   \n",
      "390                      Yuba City, CA Metro Area      172469   \n",
      "391                           Yuma, AZ Metro Area      209468   \n",
      "\n",
      "     medianHouseholdIncome  medianHomePrice  percentOver25WithBachelors  \n",
      "0                    52511           142900                        23.0  \n",
      "1                    16470           126000                        20.7  \n",
      "2                    57285           156800                        31.7  \n",
      "3                    44844           131700                        20.0  \n",
      "4                    55893           224800                        19.3  \n",
      "..                     ...              ...                         ...  \n",
      "387                  15463           104500                        22.4  \n",
      "388                  66457           185800                        24.9  \n",
      "389                  47360           117000                        21.9  \n",
      "390                  58551           279000                        17.7  \n",
      "391                  45243           151700                        15.0  \n",
      "\n",
      "[392 rows x 5 columns]\n"
     ]
    }
   ],
   "source": [
    "pandas_msa_df=msa_df.toPandas()\n",
    "print(pandas_msa_df)"
   ]
  },
  {
   "cell_type": "code",
   "execution_count": 39,
   "metadata": {
    "pycharm": {
     "name": "#%%\n"
    }
   },
   "outputs": [
    {
     "data": {
      "image/png": "[encoded data removed]",
      "text/plain": [
       "<Figure size 1080x2160 with 8 Axes>"
      ]
     },
     "metadata": {
      "needs_background": "light"
     },
     "output_type": "display_data"
    }
   ],
   "source": [
    "fig, axes = plt.subplots(4, 2)\n",
    "fig.set_size_inches(15,30)\n",
    "for i in range(1,5):\n",
    "    sns.histplot(pandas_msa_df.iloc[:,i], ax=axes[i-1,0])\n",
    "    sns.histplot(pandas_msa_df.iloc[:, i], log_scale=True, ax=axes[i-1,1])"
   ]
  },
  {
   "cell_type": "markdown",
   "metadata": {
    "pycharm": {
     "name": "#%% md\n"
    }
   },
   "source": [
    "That log transformation looks like it will help. Run the Cypher to store the transformed values in the graph."
   ]
  },
  {
   "cell_type": "code",
   "execution_count": 40,
   "metadata": {
    "pycharm": {
     "name": "#%%\n"
    }
   },
   "outputs": [],
   "source": [
    "msa_df_update_query = \"\"\"\n",
    "MATCH (m:MSA)\n",
    "SET \n",
    "m.logPopulation = log(m.population),\n",
    "m.logMedianHouseholdIncome = log(m.medianHouseholdIncome),\n",
    "m.logMedianHomePrice = log(m.medianHomePrice),\n",
    "m.logPercentOver25WithBachelors = log(m.percentOver25WithBachelors)\n",
    "\"\"\"\n",
    "\n",
    "sparkConnector.write_cypher(msa_df_update_query)"
   ]
  },
  {
   "cell_type": "markdown",
   "metadata": {
    "pycharm": {
     "name": "#%% md\n"
    }
   },
   "source": [
    "Check that logs were committed to the database"
   ]
  },
  {
   "cell_type": "code",
   "execution_count": 41,
   "metadata": {
    "pycharm": {
     "name": "#%%\n"
    }
   },
   "outputs": [
    {
     "name": "stdout",
     "output_type": "stream",
     "text": [
      "+--------------------+----------+------------------+---------------------+\n",
      "|                 msa|population|   m.logPopulation|medianHouseholdIncome|\n",
      "+--------------------+----------+------------------+---------------------+\n",
      "|Abilene, TX Metro...|    170669|12.047481287135076|                52511|\n",
      "|Aguadilla-Isabela...|    301107|12.615220962289929|                16470|\n",
      "|Akron, OH Metro Area|    703845|13.464313440444561|                57285|\n",
      "|Albany, GA Metro ...|    148436| 11.90790916789688|                44844|\n",
      "|Albany-Lebanon, O...|    125048|11.736452942575307|                55893|\n",
      "|Albany-Schenectad...|    880736|13.688513200533578|                71285|\n",
      "|Albuquerque, NM M...|    912108|13.723513683097881|                54072|\n",
      "|Alexandria, LA Me...|    153310|  11.9402172943045|                46367|\n",
      "|Allentown-Bethleh...|    837610|13.638307877340166|                67652|\n",
      "|Altoona, PA Metro...|    123157|11.721215243183789|                49181|\n",
      "|Amarillo, TX Metr...|    263776|12.482855537112954|                55515|\n",
      "| Ames, IA Metro Area|    123311|11.722464898474058|                58600|\n",
      "|Anchorage, AK Met...|    398900|12.896466037893498|                83048|\n",
      "|Ann Arbor, MI Met...|    367000|12.813117127036707|                72586|\n",
      "|Anniston-Oxford, ...|    114618|11.649360138991707|                47255|\n",
      "|Appleton, WI Metr...|    235628|12.370009569198851|                67616|\n",
      "|Arecibo, PR Metro...|    180567| 12.10385717901642|                17954|\n",
      "|Asheville, NC Met...|    454351|13.026625306067478|                52735|\n",
      "|Athens-Clarke Cou...|    208457|12.247488063939638|                47214|\n",
      "|Atlanta-Sandy Spr...|   5862424|15.584073727899977|                68316|\n",
      "+--------------------+----------+------------------+---------------------+\n",
      "only showing top 20 rows\n",
      "\n"
     ]
    }
   ],
   "source": [
    "msa_df_log_query = \"\"\"\n",
    "MATCH (m:MSA)\n",
    "RETURN m.name AS msa, \n",
    "m.population AS population,\n",
    "m.logPopulation,\n",
    "m.medianHouseholdIncome AS medianHouseholdIncome\n",
    "\"\"\"\n",
    "\n",
    "msa_df = sparkConnector.read_cypher(msa_df_log_query)\n",
    "\n",
    "msa_df.show()"
   ]
  },
  {
   "cell_type": "markdown",
   "metadata": {
    "pycharm": {
     "name": "#%% md\n"
    }
   },
   "source": [
    "## Create in-memory graph projection\n",
    "Passing `\"*\"` as the third argument to `gds.graph.project` tells GDS to include any relationships that exist in the database in the in-memory graph. Because no relationships have been created in the graph yet, there will be no relationships in the in-memory graph projection when it is created."
   ]
  },
  {
   "cell_type": "code",
   "execution_count": 42,
   "metadata": {
    "pycharm": {
     "name": "#%%\n"
    }
   },
   "outputs": [],
   "source": [
    "graph_project_query = \"\"\"\n",
    "    CALL gds.graph.project(\n",
    "    'msa-graph', \n",
    "    'MSA', \n",
    "    '*', \n",
    "    {nodeProperties: [\"logPopulation\", \n",
    "        \"logMedianHouseholdIncome\", \n",
    "        \"logMedianHomePrice\", \n",
    "        \"logPercentOver25WithBachelors\"]})\n",
    "\"\"\"\n",
    "\n",
    "sparkConnector.write_script(graph_project_query)\n"
   ]
  },
  {
   "cell_type": "markdown",
   "metadata": {
    "pycharm": {
     "name": "#%% md\n"
    }
   },
   "source": [
    "## Apply MinMax scalar to property values"
   ]
  },
  {
   "cell_type": "code",
   "execution_count": 43,
   "metadata": {
    "pycharm": {
     "name": "#%%\n"
    }
   },
   "outputs": [],
   "source": [
    "graph_scale_properties_mutations = \"\"\"\n",
    "CALL gds.alpha.scaleProperties.mutate(\"msa-graph\", {\n",
    "                                 nodeProperties: [\n",
    "                                     \"logPopulation\", \n",
    "                                     \"logMedianHouseholdIncome\", \n",
    "                                     \"logMedianHomePrice\", \n",
    "                                     \"logPercentOver25WithBachelors\"], \n",
    "                                 scaler : \"MinMax\",\n",
    "                                 mutateProperty : \"scaledProperties\"\n",
    "                                 })\n",
    "                                 \"\"\"\n",
    "\n",
    "sparkConnector.write_script(graph_scale_properties_mutations)"
   ]
  },
  {
   "cell_type": "markdown",
   "metadata": {
    "pycharm": {
     "name": "#%% md\n"
    }
   },
   "source": [
    "This next line streams node properties to the procedure caller."
   ]
  },
  {
   "cell_type": "code",
   "execution_count": 44,
   "metadata": {
    "pycharm": {
     "name": "#%%\n"
    }
   },
   "outputs": [
    {
     "data": {
      "text/plain": [
       "<AxesSubplot:>"
      ]
     },
     "execution_count": 44,
     "metadata": {},
     "output_type": "execute_result"
    },
    {
     "data": {
      "image/png": "[encoded data removed]",
      "text/plain": [
       "<Figure size 432x288 with 1 Axes>"
      ]
     },
     "metadata": {
      "needs_background": "light"
     },
     "output_type": "display_data"
    }
   ],
   "source": [
    "graph_stream_scaled_properties_query = \"\"\"\n",
    "CALL gds.graph.streamNodeProperty('msa-graph', 'scaledProperties')\n",
    "YIELD nodeId, propertyValue\n",
    "RETURN nodeId, propertyValue\n",
    "                                 \"\"\"\n",
    "sp_df = sparkConnector.read_cypher(graph_stream_scaled_properties_query)\n",
    "\n",
    "pandas_sp_df=sp_df.toPandas()\n",
    "pd.DataFrame(list(pandas_sp_df['propertyValue'])).iloc[:,0].hist()"
   ]
  },
  {
   "cell_type": "markdown",
   "metadata": {
    "pycharm": {
     "name": "#%% md\n"
    }
   },
   "source": [
    "Cleanup resources"
   ]
  },
  {
   "cell_type": "code",
   "execution_count": 45,
   "metadata": {
    "pycharm": {
     "name": "#%%\n"
    }
   },
   "outputs": [
    {
     "data": {
      "text/plain": [
       "<AxesSubplot:>"
      ]
     },
     "execution_count": 45,
     "metadata": {},
     "output_type": "execute_result"
    },
    {
     "data": {
      "image/png": "[encoded data removed]",
      "text/plain": [
       "<Figure size 432x288 with 1 Axes>"
      ]
     },
     "metadata": {
      "needs_background": "light"
     },
     "output_type": "display_data"
    }
   ],
   "source": [
    "pd.DataFrame(list(pandas_sp_df['propertyValue'])).iloc[:,1].hist()"
   ]
  },
  {
   "cell_type": "code",
   "execution_count": 46,
   "metadata": {
    "pycharm": {
     "name": "#%%\n"
    }
   },
   "outputs": [
    {
     "data": {
      "text/plain": [
       "<AxesSubplot:>"
      ]
     },
     "execution_count": 46,
     "metadata": {},
     "output_type": "execute_result"
    },
    {
     "data": {
      "image/png": "[encoded data removed]",
      "text/plain": [
       "<Figure size 432x288 with 1 Axes>"
      ]
     },
     "metadata": {
      "needs_background": "light"
     },
     "output_type": "display_data"
    }
   ],
   "source": [
    "pd.DataFrame(list(pandas_sp_df['propertyValue'])).iloc[:,2].hist()"
   ]
  },
  {
   "cell_type": "code",
   "execution_count": 47,
   "metadata": {
    "pycharm": {
     "name": "#%%\n"
    }
   },
   "outputs": [
    {
     "data": {
      "text/plain": [
       "<AxesSubplot:>"
      ]
     },
     "execution_count": 47,
     "metadata": {},
     "output_type": "execute_result"
    },
    {
     "data": {
      "image/png": "[encoded data removed]",
      "text/plain": [
       "<Figure size 432x288 with 1 Axes>"
      ]
     },
     "metadata": {
      "needs_background": "light"
     },
     "output_type": "display_data"
    }
   ],
   "source": [
    "pd.DataFrame(list(pandas_sp_df['propertyValue'])).iloc[:,3].hist()"
   ]
  },
  {
   "cell_type": "markdown",
   "metadata": {
    "pycharm": {
     "name": "#%% md\n"
    }
   },
   "source": [
    "Run KNN to create relationships to nearest neighbors\n",
    "First run in stats mode and look at the similarity distribution."
   ]
  },
  {
   "cell_type": "code",
   "execution_count": 53,
   "metadata": {
    "pycharm": {
     "name": "#%%\n"
    }
   },
   "outputs": [
    {
     "data": {
      "text/plain": [
       "Row(similarityDistribution={'p1': 0.88128662109375, 'p5': 0.9450721740722656, 'max': 0.9999847412109375, 'p90': 0.9963340759277344, 'p50': 0.9896583557128906, 'p95': 0.9976234436035156, 'p10': 0.9648170471191406, 'p75': 0.993865966796875, 'p99': 0.998992919921875, 'p100': 0.9999847412109375, 'p25': 0.9818534851074219, 'min': 0.8350143432617188, 'mean': 0.9832137070829129, 'stdDev': 0.020862493999870387})"
      ]
     },
     "execution_count": 53,
     "metadata": {},
     "output_type": "execute_result"
    }
   ],
   "source": [
    "knn_stats_query = \"\"\"CALL gds.knn.stats(\"msa-graph\",\n",
    "   {\n",
    "      nodeProperties:{\n",
    "      scaledProperties:\"EUCLIDEAN\"},\n",
    "      topK:15,\n",
    "      similarityCutoff: 0.8350143432617188,\n",
    "      sampleRate:1,\n",
    "      randomSeed:42,\n",
    "      concurrency:1\n",
    "   }\n",
    ") \n",
    "YIELD similarityDistribution \n",
    "RETURN similarityDistribution \"\"\"\n",
    "                                    \n",
    "knn_stats=sparkConnector.read_cypher(knn_stats_query)\n",
    "knn_stats.collect()[0]"
   ]
  },
  {
   "cell_type": "markdown",
   "metadata": {
    "pycharm": {
     "name": "#%% md\n"
    }
   },
   "source": [
    "Write KNN nearest neighbors"
   ]
  },
  {
   "cell_type": "code",
   "execution_count": 57,
   "metadata": {
    "pycharm": {
     "name": "#%%\n"
    }
   },
   "outputs": [
    {
     "name": "stdout",
     "output_type": "stream",
     "text": [
      "CALL gds.knn.mutate(\"msa-graph\",\n",
      "               {nodeProperties: {scaledProperties: \"EUCLIDEAN\"},\n",
      "               topK: 15,\n",
      "               mutateRelationshipType: \"IS_SIMILAR\",\n",
      "               mutateProperty: \"similarity\",\n",
      "               similarityCutoff: 0.88128662109375,\n",
      "               sampleRate:1,\n",
      "               randomSeed:42,\n",
      "               concurrency:1}\n",
      "              ) \n"
     ]
    }
   ],
   "source": [
    "knn_write = f\"\"\"CALL gds.knn.mutate(\"msa-graph\",\n",
    "               {{nodeProperties: {{scaledProperties: \"EUCLIDEAN\"}},\n",
    "               topK: 15,\n",
    "               mutateRelationshipType: \"IS_SIMILAR\",\n",
    "               mutateProperty: \"similarity\",\n",
    "               similarityCutoff: {knn_stats.collect()[0]['similarityDistribution']['p1']},\n",
    "               sampleRate:1,\n",
    "               randomSeed:42,\n",
    "               concurrency:1}}\n",
    "              ) \"\"\"\n",
    "\n",
    "#print(knn_write)\n",
    "sparkConnector.write_script(knn_write)"
   ]
  },
  {
   "cell_type": "markdown",
   "metadata": {
    "pycharm": {
     "name": "#%% md\n"
    }
   },
   "source": [
    "Write back to Neo4j graph"
   ]
  },
  {
   "cell_type": "code",
   "execution_count": 58,
   "metadata": {
    "pycharm": {
     "name": "#%%\n"
    }
   },
   "outputs": [],
   "source": [
    "similarity_relationship_writeback = \"\"\"CALL gds.graph.writeRelationship(\n",
    "    \"msa-graph\",\n",
    "    \"IS_SIMILAR\",\n",
    "    \"similarity\"\n",
    ")\"\"\"\n",
    "\n",
    "sparkConnector.write_script(similarity_relationship_writeback)"
   ]
  },
  {
   "cell_type": "markdown",
   "metadata": {
    "pycharm": {
     "name": "#%% md\n"
    }
   },
   "source": [
    "Add rank updates"
   ]
  },
  {
   "cell_type": "code",
   "execution_count": 59,
   "metadata": {
    "pycharm": {
     "name": "#%%\n"
    }
   },
   "outputs": [],
   "source": [
    "add_rank_update = \"\"\"\n",
    "MATCH (m:MSA)-[s:IS_SIMILAR]->()\n",
    "WITH m, s ORDER BY s.similarity DESC\n",
    "WITH m, collect(s) as similarities, range(0, 11) AS ranks\n",
    "UNWIND ranks AS rank\n",
    "WITH rank, similarities[rank] AS rel\n",
    "SET rel.rank = rank + 1\n",
    "\"\"\"\n",
    "\n",
    "sparkConnector.write_cypher(add_rank_update)"
   ]
  },
  {
   "cell_type": "markdown",
   "source": [
    "## Run Louvain Community Detection"
   ],
   "metadata": {
    "collapsed": false,
    "pycharm": {
     "name": "#%% md\n"
    }
   }
  },
  {
   "cell_type": "markdown",
   "metadata": {
    "pycharm": {
     "name": "#%% md\n"
    }
   },
   "source": [
    "See how many communities Louvain is going to recommend"
   ]
  },
  {
   "cell_type": "code",
   "execution_count": 28,
   "metadata": {
    "pycharm": {
     "name": "#%%\n"
    }
   },
   "outputs": [
    {
     "name": "stdout",
     "output_type": "stream",
     "text": [
      "+--------------+--------------------+\n",
      "|communityCount|        modularities|\n",
      "+--------------+--------------------+\n",
      "|            15|[0.6275570163412072]|\n",
      "+--------------+--------------------+\n",
      "\n"
     ]
    }
   ],
   "source": [
    "read_louvain = \"\"\"\n",
    "CALL gds.louvain.stats('msa-graph',\n",
    "{relationshipTypes: [\"IS_SIMILAR\"],\n",
    "relationshipWeightProperty:\"similarity\"})\n",
    "YIELD communityCount, modularities\n",
    "RETURN communityCount, modularities\n",
    "\"\"\"\n",
    "sparkConnector.read_cypher(read_louvain).show()"
   ]
  },
  {
   "cell_type": "markdown",
   "metadata": {
    "pycharm": {
     "name": "#%% md\n"
    }
   },
   "source": [
    "Now commit louvain communities to database"
   ]
  },
  {
   "cell_type": "code",
   "execution_count": 62,
   "metadata": {
    "pycharm": {
     "name": "#%%\n"
    }
   },
   "outputs": [],
   "source": [
    "write_louvain = \"\"\"\n",
    "CALL gds.louvain.write('msa-graph',\n",
    "{relationshipTypes: [\"IS_SIMILAR\"],\n",
    "relationshipWeightProperty:\"similarity\",\n",
    " writeProperty:\"communityId\"})\n",
    "YIELD communityCount, modularities\n",
    "RETURN communityCount, modularities\n",
    "\"\"\"\n",
    "\n",
    "sparkConnector.write_cypher(write_louvain)"
   ]
  },
  {
   "cell_type": "markdown",
   "metadata": {
    "pycharm": {
     "name": "#%% md\n"
    }
   },
   "source": []
  },
  {
   "cell_type": "code",
   "execution_count": 96,
   "metadata": {
    "pycharm": {
     "name": "#%%\n"
    }
   },
   "outputs": [],
   "source": [
    "community_query = \"\"\"\n",
    "MATCH (m:MSA)\n",
    "WITH m \n",
    "ORDER BY apoc.coll.sum([(m)-[s:IS_SIMILAR]->(m2) \n",
    "WHERE m.communityId = m2.communityId | s.similarity]) desc\n",
    "RETURN m.communityId as communityId,\n",
    "count(m) as msaCount, \n",
    "avg(m.population) as avgPopulation,\n",
    "avg(m.medianHomePrice) as avgHomePrice,\n",
    "avg(m.medianHouseholdIncome) as avgIncome,\n",
    "avg(m.percentOver25WithBachelors) as avgPctBachelors,\n",
    "collect(m.name)[..3] as exampleMSAs\n",
    "\"\"\"\n",
    "\n",
    "## Removed final sort because this doesn]t work with Spark \n",
    "## ORDER BY avgPopulation DESC\n",
    "## post sorting in spark\n",
    "                                      \n",
    "community_df=sparkConnector.read_cypher(community_query).sort(\"avgPopulation\")"
   ]
  },
  {
   "cell_type": "code",
   "execution_count": 97,
   "metadata": {
    "pycharm": {
     "name": "#%%\n"
    }
   },
   "outputs": [
    {
     "data": {
      "text/html": [
       "<div>\n",
       "<style scoped>\n",
       "    .dataframe tbody tr th:only-of-type {\n",
       "        vertical-align: middle;\n",
       "    }\n",
       "\n",
       "    .dataframe tbody tr th {\n",
       "        vertical-align: top;\n",
       "    }\n",
       "\n",
       "    .dataframe thead th {\n",
       "        text-align: right;\n",
       "    }\n",
       "</style>\n",
       "<table border=\"1\" class=\"dataframe\">\n",
       "  <thead>\n",
       "    <tr style=\"text-align: right;\">\n",
       "      <th></th>\n",
       "      <th>communityId</th>\n",
       "      <th>msaCount</th>\n",
       "      <th>avgPopulation</th>\n",
       "      <th>avgHomePrice</th>\n",
       "      <th>avgIncome</th>\n",
       "      <th>avgPctBachelors</th>\n",
       "      <th>exampleMSAs</th>\n",
       "    </tr>\n",
       "  </thead>\n",
       "  <tbody>\n",
       "    <tr>\n",
       "      <th>0</th>\n",
       "      <td>266</td>\n",
       "      <td>63</td>\n",
       "      <td>1.336109e+05</td>\n",
       "      <td>150033.333333</td>\n",
       "      <td>52001.047619</td>\n",
       "      <td>22.025397</td>\n",
       "      <td>[Lawton, OK Metro Area, Watertown-Fort Drum, N...</td>\n",
       "    </tr>\n",
       "    <tr>\n",
       "      <th>1</th>\n",
       "      <td>313</td>\n",
       "      <td>7</td>\n",
       "      <td>1.569859e+05</td>\n",
       "      <td>113228.571429</td>\n",
       "      <td>16556.857143</td>\n",
       "      <td>22.400000</td>\n",
       "      <td>[San Germán, PR Metro Area, Arecibo, PR Metro ...</td>\n",
       "    </tr>\n",
       "    <tr>\n",
       "      <th>2</th>\n",
       "      <td>100</td>\n",
       "      <td>41</td>\n",
       "      <td>1.612953e+05</td>\n",
       "      <td>161904.878049</td>\n",
       "      <td>49128.707317</td>\n",
       "      <td>16.965854</td>\n",
       "      <td>[Anniston-Oxford, AL Metro Area, Gadsden, AL M...</td>\n",
       "    </tr>\n",
       "    <tr>\n",
       "      <th>3</th>\n",
       "      <td>277</td>\n",
       "      <td>71</td>\n",
       "      <td>1.754926e+05</td>\n",
       "      <td>237325.352113</td>\n",
       "      <td>61466.591549</td>\n",
       "      <td>35.415493</td>\n",
       "      <td>[Pittsfield, MA Metro Area, Blacksburg-Christi...</td>\n",
       "    </tr>\n",
       "    <tr>\n",
       "      <th>4</th>\n",
       "      <td>254</td>\n",
       "      <td>53</td>\n",
       "      <td>2.334595e+05</td>\n",
       "      <td>167798.113208</td>\n",
       "      <td>55711.245283</td>\n",
       "      <td>26.894340</td>\n",
       "      <td>[Tyler, TX Metro Area, South Bend-Mishawaka, I...</td>\n",
       "    </tr>\n",
       "    <tr>\n",
       "      <th>5</th>\n",
       "      <td>333</td>\n",
       "      <td>28</td>\n",
       "      <td>4.606980e+05</td>\n",
       "      <td>149510.714286</td>\n",
       "      <td>48965.928571</td>\n",
       "      <td>21.325000</td>\n",
       "      <td>[Flint, MI Metro Area, Corpus Christi, TX Metr...</td>\n",
       "    </tr>\n",
       "    <tr>\n",
       "      <th>6</th>\n",
       "      <td>56</td>\n",
       "      <td>79</td>\n",
       "      <td>1.678945e+06</td>\n",
       "      <td>203273.417722</td>\n",
       "      <td>60116.164557</td>\n",
       "      <td>31.040506</td>\n",
       "      <td>[Little Rock-North Little Rock-Conway, AR Metr...</td>\n",
       "    </tr>\n",
       "    <tr>\n",
       "      <th>7</th>\n",
       "      <td>83</td>\n",
       "      <td>49</td>\n",
       "      <td>1.916216e+06</td>\n",
       "      <td>411930.612245</td>\n",
       "      <td>78436.734694</td>\n",
       "      <td>39.248980</td>\n",
       "      <td>[Colorado Springs, CO Metro Area, Oxnard-Thous...</td>\n",
       "    </tr>\n",
       "    <tr>\n",
       "      <th>8</th>\n",
       "      <td>315</td>\n",
       "      <td>1</td>\n",
       "      <td>2.100207e+06</td>\n",
       "      <td>140600.000000</td>\n",
       "      <td>23156.000000</td>\n",
       "      <td>28.000000</td>\n",
       "      <td>[San Juan-Bayamón-Caguas, PR Metro Area]</td>\n",
       "    </tr>\n",
       "  </tbody>\n",
       "</table>\n",
       "</div>"
      ],
      "text/plain": [
       "   communityId  msaCount  avgPopulation   avgHomePrice     avgIncome  \\\n",
       "0          266        63   1.336109e+05  150033.333333  52001.047619   \n",
       "1          313         7   1.569859e+05  113228.571429  16556.857143   \n",
       "2          100        41   1.612953e+05  161904.878049  49128.707317   \n",
       "3          277        71   1.754926e+05  237325.352113  61466.591549   \n",
       "4          254        53   2.334595e+05  167798.113208  55711.245283   \n",
       "5          333        28   4.606980e+05  149510.714286  48965.928571   \n",
       "6           56        79   1.678945e+06  203273.417722  60116.164557   \n",
       "7           83        49   1.916216e+06  411930.612245  78436.734694   \n",
       "8          315         1   2.100207e+06  140600.000000  23156.000000   \n",
       "\n",
       "   avgPctBachelors                                        exampleMSAs  \n",
       "0        22.025397  [Lawton, OK Metro Area, Watertown-Fort Drum, N...  \n",
       "1        22.400000  [San Germán, PR Metro Area, Arecibo, PR Metro ...  \n",
       "2        16.965854  [Anniston-Oxford, AL Metro Area, Gadsden, AL M...  \n",
       "3        35.415493  [Pittsfield, MA Metro Area, Blacksburg-Christi...  \n",
       "4        26.894340  [Tyler, TX Metro Area, South Bend-Mishawaka, I...  \n",
       "5        21.325000  [Flint, MI Metro Area, Corpus Christi, TX Metr...  \n",
       "6        31.040506  [Little Rock-North Little Rock-Conway, AR Metr...  \n",
       "7        39.248980  [Colorado Springs, CO Metro Area, Oxnard-Thous...  \n",
       "8        28.000000           [San Juan-Bayamón-Caguas, PR Metro Area]  "
      ]
     },
     "execution_count": 97,
     "metadata": {},
     "output_type": "execute_result"
    }
   ],
   "source": [
    "pd_community_df=community_df.toPandas()\n",
    "pd_community_df"
   ]
  },
  {
   "cell_type": "code",
   "execution_count": 98,
   "metadata": {
    "pycharm": {
     "name": "#%%\n"
    }
   },
   "outputs": [
    {
     "data": {
      "image/png": "[encoded data removed]",
      "text/plain": [
       "<Figure size 432x1440 with 5 Axes>"
      ]
     },
     "metadata": {
      "needs_background": "light"
     },
     "output_type": "display_data"
    }
   ],
   "source": [
    "fig, axes = plt.subplots(5, 1)\n",
    "fig.set_size_inches(6,20)\n",
    "for i in range(1,6):\n",
    "    sns.barplot(data=pd_community_df, x=\"communityId\", y=pd_community_df.columns[i], ax=axes[i-1])"
   ]
  },
  {
   "cell_type": "markdown",
   "metadata": {
    "pycharm": {
     "name": "#%% md\n"
    }
   },
   "source": [
    "Mean can give us a quick overview of properties, but can be skewed by outliers. Compare emperical cumulative distribution function (ECDF) at various proportions to get a more complete picture of distributions."
   ]
  },
  {
   "cell_type": "code",
   "execution_count": 99,
   "metadata": {
    "pycharm": {
     "name": "#%%\n"
    }
   },
   "outputs": [],
   "source": [
    "# we need to remove sort by here\n",
    "detail_query=\"\"\"\n",
    "MATCH (m:MSA)\n",
    "RETURN \"community \" + m.communityId as communityId,\n",
    "m.population as population,\n",
    "m.medianHomePrice as medianHomePrice,\n",
    "m.medianHouseholdIncome as medianIncome,\n",
    "m.percentOver25WithBachelors as pctBachelors\n",
    "\"\"\"\n",
    "\n",
    "## post sorting in spark\n",
    "\n",
    "detail_df=sparkConnector.read_cypher(detail_query).sort(\"communityId\")\n"
   ]
  },
  {
   "cell_type": "code",
   "execution_count": 101,
   "metadata": {
    "pycharm": {
     "name": "#%%\n"
    }
   },
   "outputs": [
    {
     "data": {
      "text/html": [
       "<div>\n",
       "<style scoped>\n",
       "    .dataframe tbody tr th:only-of-type {\n",
       "        vertical-align: middle;\n",
       "    }\n",
       "\n",
       "    .dataframe tbody tr th {\n",
       "        vertical-align: top;\n",
       "    }\n",
       "\n",
       "    .dataframe thead th {\n",
       "        text-align: right;\n",
       "    }\n",
       "</style>\n",
       "<table border=\"1\" class=\"dataframe\">\n",
       "  <thead>\n",
       "    <tr style=\"text-align: right;\">\n",
       "      <th></th>\n",
       "      <th>communityId</th>\n",
       "      <th>population</th>\n",
       "      <th>medianHomePrice</th>\n",
       "      <th>medianIncome</th>\n",
       "      <th>pctBachelors</th>\n",
       "    </tr>\n",
       "  </thead>\n",
       "  <tbody>\n",
       "    <tr>\n",
       "      <th>0</th>\n",
       "      <td>community 100</td>\n",
       "      <td>148436</td>\n",
       "      <td>131700</td>\n",
       "      <td>44844</td>\n",
       "      <td>20.0</td>\n",
       "    </tr>\n",
       "    <tr>\n",
       "      <th>1</th>\n",
       "      <td>community 100</td>\n",
       "      <td>153310</td>\n",
       "      <td>154500</td>\n",
       "      <td>46367</td>\n",
       "      <td>19.0</td>\n",
       "    </tr>\n",
       "    <tr>\n",
       "      <th>2</th>\n",
       "      <td>community 100</td>\n",
       "      <td>114618</td>\n",
       "      <td>133800</td>\n",
       "      <td>47255</td>\n",
       "      <td>18.5</td>\n",
       "    </tr>\n",
       "    <tr>\n",
       "      <th>3</th>\n",
       "      <td>community 100</td>\n",
       "      <td>104104</td>\n",
       "      <td>104100</td>\n",
       "      <td>48819</td>\n",
       "      <td>19.3</td>\n",
       "    </tr>\n",
       "    <tr>\n",
       "      <th>4</th>\n",
       "      <td>community 100</td>\n",
       "      <td>118828</td>\n",
       "      <td>121000</td>\n",
       "      <td>42817</td>\n",
       "      <td>17.1</td>\n",
       "    </tr>\n",
       "    <tr>\n",
       "      <th>...</th>\n",
       "      <td>...</td>\n",
       "      <td>...</td>\n",
       "      <td>...</td>\n",
       "      <td>...</td>\n",
       "      <td>...</td>\n",
       "    </tr>\n",
       "    <tr>\n",
       "      <th>387</th>\n",
       "      <td>community 83</td>\n",
       "      <td>367922</td>\n",
       "      <td>291100</td>\n",
       "      <td>81057</td>\n",
       "      <td>42.6</td>\n",
       "    </tr>\n",
       "    <tr>\n",
       "      <th>388</th>\n",
       "      <td>community 83</td>\n",
       "      <td>984821</td>\n",
       "      <td>673400</td>\n",
       "      <td>85857</td>\n",
       "      <td>35.0</td>\n",
       "    </tr>\n",
       "    <tr>\n",
       "      <th>389</th>\n",
       "      <td>community 83</td>\n",
       "      <td>441829</td>\n",
       "      <td>419700</td>\n",
       "      <td>81472</td>\n",
       "      <td>26.9</td>\n",
       "    </tr>\n",
       "    <tr>\n",
       "      <th>390</th>\n",
       "      <td>community 83</td>\n",
       "      <td>6196585</td>\n",
       "      <td>425300</td>\n",
       "      <td>103751</td>\n",
       "      <td>50.9</td>\n",
       "    </tr>\n",
       "    <tr>\n",
       "      <th>391</th>\n",
       "      <td>community 83</td>\n",
       "      <td>941338</td>\n",
       "      <td>274000</td>\n",
       "      <td>73408</td>\n",
       "      <td>34.9</td>\n",
       "    </tr>\n",
       "  </tbody>\n",
       "</table>\n",
       "<p>392 rows × 5 columns</p>\n",
       "</div>"
      ],
      "text/plain": [
       "       communityId  population  medianHomePrice  medianIncome  pctBachelors\n",
       "0    community 100      148436           131700         44844          20.0\n",
       "1    community 100      153310           154500         46367          19.0\n",
       "2    community 100      114618           133800         47255          18.5\n",
       "3    community 100      104104           104100         48819          19.3\n",
       "4    community 100      118828           121000         42817          17.1\n",
       "..             ...         ...              ...           ...           ...\n",
       "387   community 83      367922           291100         81057          42.6\n",
       "388   community 83      984821           673400         85857          35.0\n",
       "389   community 83      441829           419700         81472          26.9\n",
       "390   community 83     6196585           425300        103751          50.9\n",
       "391   community 83      941338           274000         73408          34.9\n",
       "\n",
       "[392 rows x 5 columns]"
      ]
     },
     "execution_count": 101,
     "metadata": {},
     "output_type": "execute_result"
    }
   ],
   "source": [
    "pd_detail_df=detail_df.toPandas()\n",
    "pd_detail_df"
   ]
  },
  {
   "cell_type": "code",
   "execution_count": 103,
   "metadata": {
    "pycharm": {
     "name": "#%%\n"
    }
   },
   "outputs": [
    {
     "data": {
      "image/png": "[encoded data removed]",
      "text/plain": [
       "<Figure size 432x1440 with 4 Axes>"
      ]
     },
     "metadata": {
      "needs_background": "light"
     },
     "output_type": "display_data"
    }
   ],
   "source": [
    "fig, axes = plt.subplots(4, 1)\n",
    "fig.set_size_inches(6,20)\n",
    "for i in range(1,5):\n",
    "    sns.ecdfplot(data=pd_detail_df, hue=\"communityId\", x=pd_detail_df.columns[i], log_scale=True, ax=axes[i-1])"
   ]
  },
  {
   "cell_type": "markdown",
   "metadata": {
    "pycharm": {
     "name": "#%% md\n"
    }
   },
   "source": [
    "Compare two-dimensions on scatter plots"
   ]
  },
  {
   "cell_type": "code",
   "execution_count": 104,
   "metadata": {
    "pycharm": {
     "name": "#%%\n"
    }
   },
   "outputs": [
    {
     "data": {
      "text/plain": [
       "[None]"
      ]
     },
     "execution_count": 104,
     "metadata": {},
     "output_type": "execute_result"
    },
    {
     "data": {
      "image/png": "[encoded data removed]",
      "text/plain": [
       "<Figure size 432x288 with 1 Axes>"
      ]
     },
     "metadata": {
      "needs_background": "light"
     },
     "output_type": "display_data"
    }
   ],
   "source": [
    "splot = sns.scatterplot(data=pd_detail_df, x=\"medianIncome\", y=\"population\", hue=\"communityId\")\n",
    "splot.set(yscale=\"log\")\n",
    "splot.set(xscale=\"log\")"
   ]
  },
  {
   "cell_type": "code",
   "execution_count": 105,
   "metadata": {
    "pycharm": {
     "name": "#%%\n"
    }
   },
   "outputs": [
    {
     "data": {
      "text/plain": [
       "[None]"
      ]
     },
     "execution_count": 105,
     "metadata": {},
     "output_type": "execute_result"
    },
    {
     "data": {
      "image/png": "[encoded data removed]",
      "text/plain": [
       "<Figure size 432x288 with 1 Axes>"
      ]
     },
     "metadata": {
      "needs_background": "light"
     },
     "output_type": "display_data"
    }
   ],
   "source": [
    "splot = sns.scatterplot(data=pd_detail_df, x=\"pctBachelors\", y=\"medianHomePrice\", hue=\"communityId\")\n",
    "splot.set(yscale=\"log\")\n",
    "splot.set(xscale=\"log\")"
   ]
  },
  {
   "cell_type": "markdown",
   "metadata": {
    "pycharm": {
     "name": "#%% md\n"
    }
   },
   "source": [
    "## Optional: assign human-friendly names to the clusters discovered.\n",
    "The Louvain community detection algorithm is not deterministic. You should have roughly the same clusters from previous runs, but some edge cases might be assigned to different communities. The community numbers might be shuffled between across different runs.  \n",
    "**This step requires adjustment by hand: choose from community IDs above.**"
   ]
  },
  {
   "cell_type": "code",
   "execution_count": 113,
   "metadata": {
    "pycharm": {
     "name": "#%%\n"
    }
   },
   "outputs": [],
   "source": [
    "update_community_name_query=\"\"\"\n",
    "MATCH (m:MSA) \n",
    "  SET m.communityName = CASE m.communityId \n",
    "  WHEN 56 THEN \"Large mid-cost metros\"\n",
    "  WHEN 83 THEN \"College towns\"\n",
    "  WHEN 254 THEN \"Large high-cost metros\"\n",
    "  WHEN 266 THEN \"Mid-size metros\"\n",
    "  WHEN 277 THEN \"Small metros\"\n",
    "  WHEN 315 THEN \"Mid-price metros\"\n",
    "  WHEN 333 THEN \"Low-income metros\"\n",
    "  END\n",
    "\"\"\"\n",
    "\n",
    "sparkConnector.write_cypher(update_community_name_query)"
   ]
  },
  {
   "cell_type": "markdown",
   "metadata": {
    "pycharm": {
     "name": "#%% md\n"
    }
   },
   "source": [
    "Check on updates"
   ]
  },
  {
   "cell_type": "code",
   "execution_count": 114,
   "metadata": {
    "pycharm": {
     "name": "#%%\n"
    }
   },
   "outputs": [
    {
     "data": {
      "text/html": [
       "<table border='1'>\n",
       "<tr><th>m.communityName</th><th>m.communityId</th><th>count(*)</th></tr>\n",
       "<tr><td>Mid-size metros</td><td>266</td><td>63</td></tr>\n",
       "<tr><td>null</td><td>313</td><td>7</td></tr>\n",
       "<tr><td>Large mid-cost me...</td><td>56</td><td>79</td></tr>\n",
       "<tr><td>null</td><td>100</td><td>41</td></tr>\n",
       "<tr><td>College towns</td><td>83</td><td>49</td></tr>\n",
       "<tr><td>Large high-cost m...</td><td>254</td><td>53</td></tr>\n",
       "<tr><td>Small metros</td><td>277</td><td>71</td></tr>\n",
       "<tr><td>Low-income metros</td><td>333</td><td>28</td></tr>\n",
       "<tr><td>Mid-price metros</td><td>315</td><td>1</td></tr>\n",
       "</table>\n"
      ],
      "text/plain": [
       "+--------------------+-------------+--------+\n",
       "|     m.communityName|m.communityId|count(*)|\n",
       "+--------------------+-------------+--------+\n",
       "|     Mid-size metros|          266|      63|\n",
       "|                null|          313|       7|\n",
       "|Large mid-cost me...|           56|      79|\n",
       "|                null|          100|      41|\n",
       "|       College towns|           83|      49|\n",
       "|Large high-cost m...|          254|      53|\n",
       "|        Small metros|          277|      71|\n",
       "|   Low-income metros|          333|      28|\n",
       "|    Mid-price metros|          315|       1|\n",
       "+--------------------+-------------+--------+"
      ]
     },
     "execution_count": 114,
     "metadata": {},
     "output_type": "execute_result"
    }
   ],
   "source": [
    "describe_query=\"\"\"\n",
    "MATCH (m:MSA)\n",
    "return m.communityName, m.communityId, count(*)\n",
    "\"\"\"\n",
    "\n",
    "sparkConnector.read_cypher(describe_query)"
   ]
  },
  {
   "cell_type": "code",
   "execution_count": null,
   "metadata": {
    "pycharm": {
     "name": "#%%\n"
    }
   },
   "outputs": [],
   "source": []
  },
  {
   "cell_type": "markdown",
   "metadata": {
    "pycharm": {
     "name": "#%% md\n"
    }
   },
   "source": [
    "Create an index on the communityName property to make it searchable in Bloom."
   ]
  },
  {
   "cell_type": "code",
   "execution_count": 115,
   "metadata": {
    "pycharm": {
     "name": "#%%\n"
    }
   },
   "outputs": [],
   "source": [
    "sparkConnector.write_script(\"\"\"\n",
    "CREATE INDEX msa_community_name IF NOT EXISTS\n",
    "FOR (m:MSA) ON (m.communityName)\n",
    "\"\"\")"
   ]
  },
  {
   "cell_type": "markdown",
   "metadata": {
    "pycharm": {
     "name": "#%% md\n"
    }
   },
   "source": [
    "Now open Bloom and do some additional analysis!"
   ]
  },
  {
   "cell_type": "markdown",
   "metadata": {
    "pycharm": {
     "name": "#%% md\n"
    }
   },
   "source": [
    "## Cleanup"
   ]
  },
  {
   "cell_type": "code",
   "execution_count": null,
   "metadata": {
    "pycharm": {
     "name": "#%%\n"
    }
   },
   "outputs": [],
   "source": [
    "graph_project_drop = \"\"\"\n",
    "    CALL gds.graph.drop(\n",
    "    'msa-graph')\n",
    "\"\"\"\n",
    "sparkConnector.write_script(graph_project_drop)"
   ]
  },
  {
   "cell_type": "code",
   "execution_count": null,
   "metadata": {
    "pycharm": {
     "name": "#%%\n"
    }
   },
   "outputs": [],
   "source": []
  }
 ],
 "metadata": {
  "kernelspec": {
   "display_name": "Python 3",
   "language": "python",
   "name": "python3"
  },
  "language_info": {
   "codemirror_mode": {
    "name": "ipython",
    "version": 3
   },
   "file_extension": ".py",
   "mimetype": "text/x-python",
   "name": "python",
   "nbconvert_exporter": "python",
   "pygments_lexer": "ipython3",
   "version": "3.7.4"
  }
 },
 "nbformat": 4,
 "nbformat_minor": 2
}